{
 "cells": [
  {
   "cell_type": "code",
   "execution_count": 6,
   "metadata": {},
   "outputs": [
    {
     "data": {
      "text/plain": [
       "True"
      ]
     },
     "execution_count": 6,
     "metadata": {},
     "output_type": "execute_result"
    }
   ],
   "source": [
    "import os\n",
    "import tweepy\n",
    "from dotenv import load_dotenv\n",
    "load_dotenv(override=True)"
   ]
  },
  {
   "cell_type": "markdown",
   "metadata": {},
   "source": [
    "# Auth on twitter"
   ]
  },
  {
   "cell_type": "code",
   "execution_count": 13,
   "metadata": {},
   "outputs": [],
   "source": [
    "auth = tweepy.OAuthHandler(os.getenv(\"CONSUMER_KEY\"), os.getenv(\"CONSUMER_SECRET\"))\n",
    "auth.set_access_token(os.getenv(\"ACCESS_TOKEN\"), os.getenv(\"ACCESS_SECRET\"))"
   ]
  },
  {
   "cell_type": "markdown",
   "metadata": {},
   "source": [
    "# API object"
   ]
  },
  {
   "cell_type": "code",
   "execution_count": 14,
   "metadata": {},
   "outputs": [
    {
     "name": "stdout",
     "output_type": "stream",
     "text": [
      "Auth is ok.\n"
     ]
    }
   ],
   "source": [
    "api = tweepy.API(auth) # wait_on_rate_limit=True and wait_on_rate_limit_notify=True can be useful\n",
    "\n",
    "try:\n",
    "  api.verify_credentials()\n",
    "  print(\"Auth is ok.\")\n",
    "except:\n",
    "  print(\"Can't Auth.\")"
   ]
  },
  {
   "cell_type": "markdown",
   "metadata": {},
   "source": [
    "## Display timeline"
   ]
  },
  {
   "cell_type": "code",
   "execution_count": null,
   "metadata": {},
   "outputs": [],
   "source": [
    "timeline = api.home_timeline()\n",
    "for tweet in timeline:\n",
    "  print(tweet.text)"
   ]
  },
  {
   "cell_type": "markdown",
   "metadata": {},
   "source": [
    "## Display user info"
   ]
  },
  {
   "cell_type": "code",
   "execution_count": null,
   "metadata": {},
   "outputs": [],
   "source": [
    "user = api.get_user(screen_name=\"HumanBojack\")\n",
    "\n",
    "print(f\"Username: {user.name}\")\n",
    "print(f\"Description: {user.description}\")\n",
    "print(f\"User location: {user.location}\")\n",
    "\n",
    "print(\"Last 20 followers:\")\n",
    "for follower in user.followers():\n",
    "  print(follower.name)"
   ]
  },
  {
   "cell_type": "markdown",
   "metadata": {},
   "source": [
    "## Make a simple tweet"
   ]
  },
  {
   "cell_type": "code",
   "execution_count": 24,
   "metadata": {},
   "outputs": [],
   "source": [
    "# api.update_status(\"Hello World!\")"
   ]
  },
  {
   "cell_type": "markdown",
   "metadata": {},
   "source": [
    "## Update description  "
   ]
  },
  {
   "cell_type": "code",
   "execution_count": null,
   "metadata": {},
   "outputs": [],
   "source": [
    "api.update_profile(description=\"@HumanBojack\\nrunning=True\")"
   ]
  },
  {
   "cell_type": "markdown",
   "metadata": {},
   "source": [
    "# Tweet listener"
   ]
  },
  {
   "cell_type": "code",
   "execution_count": null,
   "metadata": {},
   "outputs": [],
   "source": [
    "class PrintOnMessage(tweepy.Stream):\n",
    "  def __init__(self, api):\n",
    "    super().__init__(\n",
    "      api.auth.consumer_key,\n",
    "      api.auth.consumer_secret,\n",
    "      api.auth.access_token,\n",
    "      api.auth.access_token_secret\n",
    "    )\n",
    "    self.api = api\n",
    "\n",
    "  def on_status(self, tweet):\n",
    "    print(f\"{tweet.user.name} : {tweet.text}\")\n",
    "\n",
    "  def on_error(self, status):\n",
    "    print(f\"Error : {status}\")\n",
    "\n",
    "stream = PrintOnMessage(api)\n",
    "stream.filter(track=[\"Minecraft\"])"
   ]
  },
  {
   "cell_type": "markdown",
   "metadata": {},
   "source": [
    "# Using pillow to modify an image"
   ]
  },
  {
   "cell_type": "code",
   "execution_count": 7,
   "metadata": {},
   "outputs": [],
   "source": [
    "from PIL import Image, ImageFont, ImageDraw\n",
    "import textwrap"
   ]
  },
  {
   "cell_type": "code",
   "execution_count": 22,
   "metadata": {},
   "outputs": [],
   "source": [
    "# image = Image.new('RGB', (800, 400), color=(0,0,0))"
   ]
  },
  {
   "cell_type": "code",
   "execution_count": 148,
   "metadata": {},
   "outputs": [],
   "source": [
    "#text=\"Lorem ipsum dolor sit amet, consectetur adipiscing elit. Sed nibh sapien, malesuada vitae viverra id, auctor eu odio. Vestibulum sagittis cursus tortor, id tincidunt elit ullamcorper in. Pellentesque habitant morbi tristique senectus et netus et malesuada fames ac turpis egestas.\"\n",
    "text=\"Lorem ipsum dolor sit amet, consectetur adipiscing elit. Morbi auctor nunc ut ultricies dignissim. Nulla interdum auctor sapien et pharetra.\"\n",
    "#text=\"Hello guys, this is Romain.\"\n",
    "\n",
    "image = Image.open(\"assets/asterix.png\")\n",
    "text_color = (0, 0, 0)\n",
    "draw = ImageDraw.Draw(image)\n",
    "image_width, image_height = image.size\n",
    "\n",
    "if len(text) > 140:\n",
    "  font_size = 35\n",
    "  line_break = 25\n",
    "else:\n",
    "  font_size = 50\n",
    "  line_break = 17\n",
    "\n",
    "font = ImageFont.truetype(\"assets/Comic.ttf\", font_size)\n",
    "lines = textwrap.wrap(text, width=line_break)\n",
    "\n",
    "t_width, t_height = font.getsize(text)\n",
    "y_text = (500 - t_height * len(lines)) / 2\n",
    "\n",
    "for line in lines:\n",
    "  line_width, line_height = font.getsize(line)\n",
    "  draw.text((360 - line_width / 2, y_text), line, font=font, fill=text_color)\n",
    "  y_text += 40\n",
    "\n",
    "image.show()"
   ]
  },
  {
   "cell_type": "code",
   "execution_count": null,
   "metadata": {},
   "outputs": [],
   "source": []
  },
  {
   "cell_type": "code",
   "execution_count": null,
   "metadata": {},
   "outputs": [],
   "source": []
  }
 ],
 "metadata": {
  "interpreter": {
   "hash": "d77be1c29c24b94cd2472389b0c993a58b74e5fd076a09b682a20bf6e66797b0"
  },
  "kernelspec": {
   "display_name": "Python 3.10.0 64-bit ('twitter_bot': conda)",
   "language": "python",
   "name": "python3"
  },
  "language_info": {
   "codemirror_mode": {
    "name": "ipython",
    "version": 3
   },
   "file_extension": ".py",
   "mimetype": "text/x-python",
   "name": "python",
   "nbconvert_exporter": "python",
   "pygments_lexer": "ipython3",
   "version": "3.10.0"
  },
  "orig_nbformat": 4
 },
 "nbformat": 4,
 "nbformat_minor": 2
}
