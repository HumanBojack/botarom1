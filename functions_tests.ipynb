{
 "cells": [
  {
   "cell_type": "code",
   "execution_count": 6,
   "metadata": {},
   "outputs": [
    {
     "data": {
      "text/plain": [
       "True"
      ]
     },
     "execution_count": 6,
     "metadata": {},
     "output_type": "execute_result"
    }
   ],
   "source": [
    "import os\n",
    "import tweepy\n",
    "from dotenv import load_dotenv\n",
    "load_dotenv(override=True)"
   ]
  },
  {
   "cell_type": "markdown",
   "metadata": {},
   "source": [
    "# Auth on twitter"
   ]
  },
  {
   "cell_type": "code",
   "execution_count": 13,
   "metadata": {},
   "outputs": [],
   "source": [
    "auth = tweepy.OAuthHandler(os.getenv(\"CONSUMER_KEY\"), os.getenv(\"CONSUMER_SECRET\"))\n",
    "auth.set_access_token(os.getenv(\"ACCESS_TOKEN\"), os.getenv(\"ACCESS_SECRET\"))"
   ]
  },
  {
   "cell_type": "markdown",
   "metadata": {},
   "source": [
    "# API object"
   ]
  },
  {
   "cell_type": "code",
   "execution_count": 14,
   "metadata": {},
   "outputs": [
    {
     "name": "stdout",
     "output_type": "stream",
     "text": [
      "Auth is ok.\n"
     ]
    }
   ],
   "source": [
    "api = tweepy.API(auth) # wait_on_rate_limit=True and wait_on_rate_limit_notify=True can be useful\n",
    "\n",
    "try:\n",
    "  api.verify_credentials()\n",
    "  print(\"Auth is ok.\")\n",
    "except:\n",
    "  print(\"Can't Auth.\")"
   ]
  },
  {
   "cell_type": "markdown",
   "metadata": {},
   "source": [
    "## Display timeline"
   ]
  },
  {
   "cell_type": "code",
   "execution_count": null,
   "metadata": {},
   "outputs": [],
   "source": [
    "timeline = api.home_timeline()\n",
    "for tweet in timeline:\n",
    "  print(tweet.text)"
   ]
  },
  {
   "cell_type": "markdown",
   "metadata": {},
   "source": [
    "## Display user info"
   ]
  },
  {
   "cell_type": "code",
   "execution_count": null,
   "metadata": {},
   "outputs": [],
   "source": [
    "user = api.get_user(screen_name=\"HumanBojack\")\n",
    "\n",
    "print(f\"Username: {user.name}\")\n",
    "print(f\"Description: {user.description}\")\n",
    "print(f\"User location: {user.location}\")\n",
    "\n",
    "print(\"Last 20 followers:\")\n",
    "for follower in user.followers():\n",
    "  print(follower.name)"
   ]
  },
  {
   "cell_type": "markdown",
   "metadata": {},
   "source": [
    "## Make a simple tweet"
   ]
  },
  {
   "cell_type": "code",
   "execution_count": 24,
   "metadata": {},
   "outputs": [],
   "source": [
    "# api.update_status(\"Hello World!\")"
   ]
  },
  {
   "cell_type": "markdown",
   "metadata": {},
   "source": [
    "## Update description  "
   ]
  },
  {
   "cell_type": "code",
   "execution_count": null,
   "metadata": {},
   "outputs": [],
   "source": [
    "api.update_profile(description=\"@HumanBojack\\nrunning=True\")"
   ]
  },
  {
   "cell_type": "markdown",
   "metadata": {},
   "source": [
    "# Tweet listener"
   ]
  },
  {
   "cell_type": "code",
   "execution_count": null,
   "metadata": {},
   "outputs": [],
   "source": [
    "class PrintOnMessage(tweepy.Stream):\n",
    "  def __init__(self, api):\n",
    "    super().__init__(\n",
    "      api.auth.consumer_key,\n",
    "      api.auth.consumer_secret,\n",
    "      api.auth.access_token,\n",
    "      api.auth.access_token_secret\n",
    "    )\n",
    "    self.api = api\n",
    "\n",
    "  def on_status(self, tweet):\n",
    "    print(f\"{tweet.user.name} : {tweet.text}\")\n",
    "\n",
    "  def on_error(self, status):\n",
    "    print(f\"Error : {status}\")\n",
    "\n",
    "stream = PrintOnMessage(api)\n",
    "stream.filter(track=[\"Minecraft\"])"
   ]
  },
  {
   "cell_type": "code",
   "execution_count": null,
   "metadata": {},
   "outputs": [],
   "source": []
  }
 ],
 "metadata": {
  "interpreter": {
   "hash": "d77be1c29c24b94cd2472389b0c993a58b74e5fd076a09b682a20bf6e66797b0"
  },
  "kernelspec": {
   "display_name": "Python 3.10.0 64-bit ('twitter_bot': conda)",
   "language": "python",
   "name": "python3"
  },
  "language_info": {
   "codemirror_mode": {
    "name": "ipython",
    "version": 3
   },
   "file_extension": ".py",
   "mimetype": "text/x-python",
   "name": "python",
   "nbconvert_exporter": "python",
   "pygments_lexer": "ipython3",
   "version": "3.10.0"
  },
  "orig_nbformat": 4
 },
 "nbformat": 4,
 "nbformat_minor": 2
}
